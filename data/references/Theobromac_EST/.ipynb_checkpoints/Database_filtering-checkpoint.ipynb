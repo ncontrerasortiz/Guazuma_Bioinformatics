{
 "cells": [
  {
   "cell_type": "markdown",
   "metadata": {},
   "source": [
    "# Get Data \n",
    "\n",
    "1. Download EST sets from leaves: See table 1 from Argout et al 2008 \n",
    "  - Url to search the accesion number range required in EMBL \n",
    "http://www.ebi.ac.uk/ena/data/view/CU469588-CU633156   \n",
    "\n",
    "  - Download sequences: 163,304 total \n",
    "  - Download half half batches-> worked OK\n",
    "http://www.ebi.ac.uk/ena/data/view/CU569839-CU633156  \n",
    "http://www.ebi.ac.uk/ena/data/view/CU469588-CU569838  \n",
    "\n",
    "\n",
    "2. Classify by tissue origin and select leaf and young shoots \n",
    "\n",
    "    - Display Number of lines containing a certain 'character' \n",
    "\n",
    "`grep -c '>' CU569839-CU633156.fasta  # 63,304 `\n",
    "\n",
    "`grep -c '>' CU469588-CU569838.fasta  # 100,000 `\n",
    "\n",
    "`grep -c '>'  CU469588-CU633156.fasta   #163,304 `\n",
    "\n",
    "`grep -c 'KZ0ACI'  CU469588-CU633156.fasta`\n",
    "\n",
    "- Concatenate several files in a desired order \n",
    "\n",
    "`cat CU469588-CU569838.fasta CU569839-CU633156.fasta  >  CU469588-CU633156.fasta`\n",
    "\n",
    "3. Next Step: Try to Extract A Group Of Fasta Sequences From A File using the Library name only... (no sirve hacerlo a mano porque no están en orden) Como sacar las secuencias que contienen X caracteres en su nombre: BBMap filterbyname"
   ]
  },
  {
   "cell_type": "markdown",
   "metadata": {},
   "source": [
    "# Extract specific library sequences from EST\n",
    "\n",
    "\n",
    "Using BBMap's filterbyname.sh tool, substring flag allows partial matches\n",
    "\n",
    "\n",
    "\n",
    "### 1. _Extract_ sequences from multi fasta using partial ID\n",
    "\n"
   ]
  },
  {
   "cell_type": "markdown",
   "metadata": {},
   "source": [
    "Library name used in _out=Library.fasta_ / Identifier used in _names='ID'_\n",
    "\n",
    "- DROUGHTRS_KZ0ACAE: __KZ0ACAE__ (Roots under drought stress)\n",
    "- DROUGHTLS_KZ0ACAF: __KZ0ACAF__\n",
    "- LEAVES_KZ0ABE: __KZ0ABE__\n",
    "- COSSHPPI_KZ0AA: __KZ0AA__ * COSSHPPI_IS_KZ0AA_fixed\n",
    "- COSSHPPS_KZ0AA: __KZ0AA__ *\n",
    "- LEAVPAGU_KZ0ACQ: __KZ0ACQ__\n",
    "- LEPAPNGR_KZ0ACP: __KZ0ACP__\n",
    "- LESSHMEPNGa_KZ0ACAP: __KZ0ACAP__\n",
    "- LESSHMEPNGb_KZ0ACV: __KZ0ACV__\n",
    "- LESSHPNGRSb_KZ0ABP: __KZ0ABP__\n",
    "- MIRIDUFS_KZ0ACAD: __KZ0ACAD__\n",
    "- RESSHMEPNGb_KZ0AC: __KZ0AC__**\n",
    "- RPPSSHPNGa_KZ0ACAL: __KZ0ACAL__\n",
    "- RPPSSHPNGb_KZ0ACR: __KZ0ACR__\n",
    "- SSHMIRUFa_KZ0ACAN: __KZ0ACAN__\n",
    "- SSHMIRUFb_KZ0ACT: __KZ0ACT__\n",
    "- STSSHWB1S_KZ0ABI_K: __KZ0ABI__***\n",
    "- STSSHWB2Sb_KZ0ACB: __KZ0ACB__"
   ]
  },
  {
   "cell_type": "code",
   "execution_count": 1,
   "metadata": {},
   "outputs": [
    {
     "name": "stdout",
     "output_type": "stream",
     "text": [
      "java -ea -Xmx1039m -cp /home/naco/miniconda3/opt/bbmap-38.79-0/current/ driver.FilterReadsByName in=CU469588-CU633156_all.fasta out=DROUGHTRS_KZ0ACAE.fasta include=t names=KZ0ACAE substring\n",
      "Executing driver.FilterReadsByName [in=CU469588-CU633156_all.fasta, out=DROUGHTRS_KZ0ACAE.fasta, include=t, names=KZ0ACAE, substring]\n",
      "\n",
      "Input is being processed as unpaired\n",
      "Time:                         \t2.288 seconds.\n",
      "Reads Processed:        163k \t71.37k reads/sec\n",
      "Bases Processed:        329m \t144.15m bases/sec\n",
      "Reads Out:          2685\n",
      "Bases Out:          1194396\n"
     ]
    }
   ],
   "source": [
    "filterbyname.sh in=CU469588-CU633156_all.fasta out=DROUGHTRS_KZ0ACAE.fasta include=t names='KZ0ACAE' substring"
   ]
  },
  {
   "cell_type": "markdown",
   "metadata": {},
   "source": [
    "- KZ0AA needs revision because several libraries have this string in the name\n",
    "\n",
    "** Same for KZ0AC\n",
    "\n",
    "*** KZ0ABI only 283 sequences found\n",
    "\n",
    "Try a Back filtered: delete the ones that are not the one needed (Exclude instead of extract)"
   ]
  },
  {
   "cell_type": "markdown",
   "metadata": {},
   "source": [
    "### 2. _Exclude_ sequences from multi fasta using partial ID \n",
    "\n",
    "__(A)__ Include sequences with the identifier __KZ0AA__ from the libraries:\n",
    "\n",
    "\n",
    "- COSSHPPI_KZ0AA: KZ0AA *\n",
    "- COSSHPPS_KZ0AA: KZ0AA *\n",
    "\n",
    "__Exclude these identifiers__\n",
    "KZ0AAC\n",
    "KZ0AAL\n",
    "KZ0AAT\n",
    "KZ0AAV\n",
    "KZ0AAS\n",
    "KZ0AAD\n",
    "KZ0AAP\n",
    "KZ0AAB\n",
    "KZ0AAH\n",
    "KZ0AAE\n",
    "KZ0AAG\n",
    "KZ0AAR\n",
    "KZ0AAM\n",
    "KZ0AAA\n",
    "KZ0AAI\n",
    "KZ0AAQ\n",
    "KZ0AAN"
   ]
  },
  {
   "cell_type": "code",
   "execution_count": 27,
   "metadata": {},
   "outputs": [
    {
     "name": "stdout",
     "output_type": "stream",
     "text": [
      "java -ea -Xmx2438m -cp /home/naco/miniconda3/opt/bbmap-38.79-0/current/ driver.FilterReadsByName in=COSSHPPI_IS_KZ0AA.fasta out=COSSHPPI_IS_KZ0AA_filtered.fasta include=f names=exclude_forKZ0AA.txt substring\n",
      "Executing driver.FilterReadsByName [in=COSSHPPI_IS_KZ0AA.fasta, out=COSSHPPI_IS_KZ0AA_filtered.fasta, include=f, names=exclude_forKZ0AA.txt, substring]\n",
      "\n",
      "Input is being processed as unpaired\n",
      "Time:                         \t0.661 seconds.\n",
      "Reads Processed:       71452 \t108.08k reads/sec\n",
      "Bases Processed:      38560k \t58.33m bases/sec\n",
      "Reads Out:          10985\n",
      "Bases Out:          5828468\n"
     ]
    }
   ],
   "source": [
    "filterbyname.sh in=COSSHPPI_IS_KZ0AA.fasta out=COSSHPPI_IS_KZ0AA_fixed.fasta include=f names=exclude_forKZ0AA.txt substring"
   ]
  },
  {
   "cell_type": "markdown",
   "metadata": {},
   "source": [
    "__(B)__ Include sequences with the identifier __KZ0AC__ from the library:\n",
    "\n",
    "\n",
    "- RESSHMEPNGb_KZ0AC: KZ0AC**\n",
    "\n",
    "__Exclude these identifiers__\n",
    "KZ0ACI\n",
    "KZ0ACAC\n",
    "KZ0ACAF\n",
    "KZ0ACAE\n",
    "KZ0ACQ\n",
    "KZ0ACP\n",
    "KZ0ACAP\n",
    "KZ0ACV\n",
    "KZ0ACAD\n",
    "KZ0ACAK\n",
    "KZ0ACAB\n",
    "KZ0ACD\n",
    "KZ0ACF\n",
    "KZ0ACM\n",
    "KZ0ACN\n",
    "KZ0ACAL\n",
    "KZ0ACR\n",
    "KZ0ACAG\n",
    "KZ0ACS\n",
    "KZ0ACAM\n",
    "KZ0ACAN\n",
    "KZ0ACT\n",
    "KZ0ACB\n",
    "KZ0ACAH\n",
    "KZ0ACL\n",
    "KZ0ACAA\n"
   ]
  },
  {
   "cell_type": "code",
   "execution_count": 29,
   "metadata": {},
   "outputs": [
    {
     "name": "stdout",
     "output_type": "stream",
     "text": [
      "java -ea -Xmx2406m -cp /home/naco/miniconda3/opt/bbmap-38.79-0/current/ driver.FilterReadsByName in=RESSHMEPNGb_KZ0AC.fasta out=RESSHMEPNGb_KZ0AC_fixed.fasta include=f names=exclude_forKZ0AC.txt substring\n",
      "Executing driver.FilterReadsByName [in=RESSHMEPNGb_KZ0AC.fasta, out=RESSHMEPNGb_KZ0AC_fixed.fasta, include=f, names=exclude_forKZ0AC.txt, substring]\n",
      "\n",
      "Input is being processed as unpaired\n",
      "Time:                         \t0.417 seconds.\n",
      "Reads Processed:       45567 \t109.28k reads/sec\n",
      "Bases Processed:      17968k \t43.09m bases/sec\n",
      "Reads Out:          1285\n",
      "Bases Out:          331962\n"
     ]
    }
   ],
   "source": [
    "filterbyname.sh in=RESSHMEPNGb_KZ0AC.fasta out=RESSHMEPNGb_KZ0AC_fixed.fasta include=f names=exclude_forKZ0AC.txt substring"
   ]
  },
  {
   "cell_type": "markdown",
   "metadata": {},
   "source": [
    "### Additional extracted libraries (30 sept 2020)\n",
    "\n",
    "- CORTEXS_KZ0AAT\tcortex tissue, external part\n",
    "- CORTINS_KZ0AAV\tcortex tissue internal part with lignified chanels\n",
    "- STEMS_KZ0AAA complete disc of stems 1 cm diameter\n",
    "\n",
    "`filterbyname.sh in=CU469588-CU633156_all.fasta out=CORTEXS_KZ0AAT.fasta include=t names='KZ0AAT' substring`\n",
    "\n",
    "`filterbyname.sh in=CU469588-CU633156_all.fasta out=CORTINS_KZ0AAV.fasta include=t names='KZ0AAV' substring`\n",
    "\n",
    "`filterbyname.sh in=CU469588-CU633156_all.fasta out=STEMS_KZ0AAA.fasta include=t names='KZ0AAA' substring`"
   ]
  },
  {
   "cell_type": "markdown",
   "metadata": {},
   "source": [
    "### Finished"
   ]
  },
  {
   "cell_type": "code",
   "execution_count": null,
   "metadata": {},
   "outputs": [],
   "source": []
  }
 ],
 "metadata": {
  "kernelspec": {
   "display_name": "Bash",
   "language": "bash",
   "name": "bash"
  },
  "language_info": {
   "codemirror_mode": "shell",
   "file_extension": ".sh",
   "mimetype": "text/x-sh",
   "name": "bash"
  }
 },
 "nbformat": 4,
 "nbformat_minor": 4
}
