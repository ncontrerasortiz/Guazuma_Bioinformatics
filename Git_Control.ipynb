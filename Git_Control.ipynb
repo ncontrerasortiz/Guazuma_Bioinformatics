{
 "cells": [
  {
   "cell_type": "markdown",
   "metadata": {},
   "source": [
    "# Git control commands\n",
    "- To make and commit changes in the **local** repository\n",
    "<br> Make a change or add a file, then:\n",
    "<br> git status #see how things are\n",
    "<br> git add filename\n",
    "<br> git status #should show changes to be commited\n",
    "<br> git commit -m \"message why the changes\n",
    "<br> git status #should show no changes to be commited\n",
    "\n",
    "\n",
    "- To move the changes to the **global** repository\n",
    "<br> git pull #takes remote repository down to your local computer and merges changes\n",
    "<br> git push #will push up to the global repository the changes\n"
   ]
  },
  {
   "cell_type": "code",
   "execution_count": null,
   "metadata": {},
   "outputs": [],
   "source": []
  }
 ],
 "metadata": {
  "kernelspec": {
   "display_name": "Bash",
   "language": "bash",
   "name": "bash"
  },
  "language_info": {
   "codemirror_mode": "shell",
   "file_extension": ".sh",
   "mimetype": "text/x-sh",
   "name": "bash"
  }
 },
 "nbformat": 4,
 "nbformat_minor": 4
}
