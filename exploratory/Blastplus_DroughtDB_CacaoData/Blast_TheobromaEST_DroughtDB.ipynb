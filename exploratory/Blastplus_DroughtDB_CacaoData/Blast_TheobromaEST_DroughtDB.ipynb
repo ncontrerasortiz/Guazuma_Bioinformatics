{
 "cells": [
  {
   "cell_type": "markdown",
   "metadata": {},
   "source": [
    "# Blast Theobroma cacao Datasets vs. Drought DB\n",
    "<br>Nucleotide-Nucleotide BLAST 2.5.0+\n",
    "- Blast+ default settings \n",
    "<br>Gap Penalties: Existence: 0, Extension: 2.5\n",
    "<br>evalue:  Default = 10'\n",
    "\n",
    "## A. Expressed Sequence Tag (EST): Transcriptome\n",
    "Blasting Theobroma cacao EST (**163,304 sequences**) from Argout et al. 2008 (EMBL DataBase CU469588 to CU633156), from several plant tissue, against a set of 194 Drought related genes from DroughtDB.\n",
    "\n",
    "__Aim:__ Estimate and explore how many of the drought genes will show up in the Guazuma transcriptome."
   ]
  },
  {
   "cell_type": "markdown",
   "metadata": {},
   "source": [
    "### Test 1.1: Theobroma cacao EST (163,304 sequences)\n",
    "\n",
    "__1. Create a custom database from the multi-FASTA EST file of sequences with this minimal command:__"
   ]
  },
  {
   "cell_type": "code",
   "execution_count": 15,
   "metadata": {},
   "outputs": [
    {
     "name": "stdout",
     "output_type": "stream",
     "text": [
      "\n",
      "\n",
      "Building a new DB, current time: 07/01/2020 14:48:17\n",
      "New DB name:   /media/storage/OneDrive - University of Edinburgh/onedrive_storage/Guazuma/Genomics/Bait_design/notebook_jup/CU469588-CU633156_all.fasta\n",
      "New DB title:  CU469588-CU633156_all.fasta\n",
      "Sequence type: Nucleotide\n",
      "Keep MBits: T\n",
      "Maximum file size: 1000000000B\n",
      "Adding sequences from FASTA; added 163304 sequences in 13.2114 seconds.\n"
     ]
    }
   ],
   "source": [
    "makeblastdb -in CU469588-CU633156_all.fasta -dbtype nucl"
   ]
  },
  {
   "cell_type": "markdown",
   "metadata": {},
   "source": [
    "__2. Perform the blast:__\n",
    "\n",
    "Query: 194 sequences\n",
    "Database: 163,304 sequences"
   ]
  },
  {
   "cell_type": "code",
   "execution_count": 17,
   "metadata": {},
   "outputs": [],
   "source": [
    "blastn -db CU469588-CU633156_all.fasta -query completeCDS_DroughtDB_194Seqs.fasta -out results.out"
   ]
  },
  {
   "cell_type": "markdown",
   "metadata": {},
   "source": [
    "__3. Use BLASTGrabber__, a Java application, locally installed and with a user-friendly GUI to visualize BLAST output data (https://www.mn.uio.no/ibv/english/people/aca/kamran/software/blastgrabber/)."
   ]
  },
  {
   "cell_type": "markdown",
   "metadata": {},
   "source": [
    "__RESULTS summary:__\n",
    "- Total number of hits: 683\n",
    "- Total number of unique hits: 628\n",
    "- Max number of hits for a query (AY857933.1): 250\n",
    "- Min number of hits for a query: 1\n",
    "- 25/194 query sequences had at least 1 hit\n"
   ]
  },
  {
   "cell_type": "markdown",
   "metadata": {},
   "source": [
    "### Test 1.2: Filtered ESTs for leaves, shoots, root-drought \n",
    "\n",
    "\n",
    "17 libraries (filtered files): **36,925**\n",
    "\n",
    "- DROUGHTLS_KZ0ACAF: 2766 seqs\n",
    "- LEAVES_KZ0ABE: 4695 seqs\n",
    "- DROUGHTRS_KZ0ACAE: 2685 sequences (Roots under drought stress)\n",
    "- COSSHPPI_KZ0AA and COSSHPPS_KZ0AA: COSSHPPI_IS_KZ0AA_fixed 10985 sequences\n",
    "- LEAVPAGU_KZ0ACQ: 3030 sequences\n",
    "- LEPAPNGR_KZ0ACP: 1021 sequences\n",
    "- LESSHMEPNGa_KZ0ACAP: 356 sequences\n",
    "- LESSHMEPNGb_KZ0ACV: 1244 sequences\n",
    "- LESSHPNGRSb_KZ0ABP: 701 sequences\n",
    "- MIRIDUFS_KZ0ACAD: 3007 sequences\n",
    "- RESSHMEPNGb_KZ0AC_fixed: 1285 sequences\n",
    "- RPPSSHPNGa_KZ0ACAL: 344 sequences\n",
    "- RPPSSHPNGb_KZ0ACR: 1406 sequences\n",
    "- SSHMIRUFa_KZ0ACAN: 318 sequences\n",
    "- SSHMIRUFb_KZ0ACT: 1391 sequences\n",
    "- STSSHWB1S_KZ0ABI_K: 283 sequences\n",
    "- STSSHWB2Sb_KZ0ACB: 1408 sequences\n",
    "\n",
    "__1. Create database__"
   ]
  },
  {
   "cell_type": "code",
   "execution_count": 21,
   "metadata": {},
   "outputs": [
    {
     "name": "stdout",
     "output_type": "stream",
     "text": [
      "\n",
      "\n",
      "Building a new DB, current time: 07/09/2020 11:54:51\n",
      "New DB name:   /media/storage/OneDrive - University of Edinburgh/onedrive_storage/Guazuma/Genomics/Bait_design/notebook_jup/STSSHWB2Sb_KZ0ACB.fasta\n",
      "New DB title:  STSSHWB2Sb_KZ0ACB.fasta\n",
      "Sequence type: Nucleotide\n",
      "Keep MBits: T\n",
      "Maximum file size: 1000000000B\n",
      "Adding sequences from FASTA; added 1408 sequences in 0.157897 seconds.\n"
     ]
    }
   ],
   "source": [
    "makeblastdb -in STSSHWB2Sb_KZ0ACB.fasta -dbtype nucl"
   ]
  },
  {
   "cell_type": "markdown",
   "metadata": {},
   "source": [
    "__2. Perform Blast__\n",
    "\n",
    "Query: 194 sequences DroughtDB"
   ]
  },
  {
   "cell_type": "code",
   "execution_count": 3,
   "metadata": {},
   "outputs": [],
   "source": [
    "blastn -db Drought_KZ0ACAF.fasta -query completeCDS_DroughtDB_194Seqs.fasta -out results_Blast_DROUGHTLS_KZ0ACAF.out\n",
    "\n",
    "blastn -db LEAVES_KZ0ABE.fasta -query completeCDS_DroughtDB_194Seqs.fasta -out results_Blast_LEAVES_KZ0ABE.out"
   ]
  },
  {
   "cell_type": "code",
   "execution_count": 23,
   "metadata": {},
   "outputs": [],
   "source": [
    "blastn -db DROUGHTRS_KZ0ACAE.fasta -query completeCDS_DroughtDB_194Seqs.fasta -out results_Blast_DROUGHTRS_KZ0ACAE.out\n",
    "\n",
    "blastn -db COSSHPPI_IS_KZ0AA_fixed.fasta -query completeCDS_DroughtDB_194Seqs.fasta -out results_Blast_COSSHPPI_IS_KZ0AA_fixed.out\n",
    "\n",
    "blastn -db LEAVPAGU_KZ0ACQ.fasta -query completeCDS_DroughtDB_194Seqs.fasta -out results_Blast_LEAVPAGU_KZ0ACQ.out\n",
    "\n",
    "blastn -db LEPAPNGR_KZ0ACP.fasta -query completeCDS_DroughtDB_194Seqs.fasta -out results_Blast_LEPAPNGR_KZ0ACP.out\n",
    "\n",
    "blastn -db LESSHMEPNGa_KZ0ACAP.fasta -query completeCDS_DroughtDB_194Seqs.fasta -out results_Blast_LESSHMEPNGa_KZ0ACAP.out\n",
    "\n",
    "blastn -db LESSHMEPNGb_KZ0ACV.fasta -query completeCDS_DroughtDB_194Seqs.fasta -out results_Blast_LESSHMEPNGb_KZ0ACV.out\n",
    "\n",
    "\n",
    "blastn -db LESSHPNGRSb_KZ0ABP.fasta -query completeCDS_DroughtDB_194Seqs.fasta -out results_Blast_LESSHPNGRSb_KZ0ABP.out\n",
    "\n",
    "blastn -db MIRIDUFS_KZ0ACAD.fasta -query completeCDS_DroughtDB_194Seqs.fasta -out results_Blast_MIRIDUFS_KZ0ACAD.out\n",
    "\n",
    "blastn -db RESSHMEPNGb_KZ0AC_fixed.fasta -query completeCDS_DroughtDB_194Seqs.fasta -out results_Blast_RESSHMEPNGb_KZ0AC_fixed.out\n",
    "\n",
    "blastn -db RPPSSHPNGa_KZ0ACAL.fasta -query completeCDS_DroughtDB_194Seqs.fasta -out results_Blast_RPPSSHPNGa_KZ0ACAL.out\n",
    "\n",
    "blastn -db RPPSSHPNGb_KZ0ACR.fasta -query completeCDS_DroughtDB_194Seqs.fasta -out results_Blast_RPPSSHPNGb_KZ0ACR.out\n",
    "\n",
    "\n",
    "blastn -db SSHMIRUFa_KZ0ACAN.fasta -query completeCDS_DroughtDB_194Seqs.fasta -out results_Blast_SSHMIRUFa_KZ0ACAN.out\n",
    "\n",
    "blastn -db SSHMIRUFb_KZ0ACT.fasta -query completeCDS_DroughtDB_194Seqs.fasta -out results_Blast_SSHMIRUFb_KZ0ACT.out\n",
    "\n",
    "\n",
    "blastn -db STSSHWB1S_KZ0ABI_K.fasta -query completeCDS_DroughtDB_194Seqs.fasta -out results_Blast_STSSHWB1S_KZ0ABI_K.out\n",
    "\n",
    "\n",
    "blastn -db STSSHWB2Sb_KZ0ACB.fasta -query completeCDS_DroughtDB_194Seqs.fasta -out results_Blast_STSSHWB2Sb_KZ0ACB.out"
   ]
  },
  {
   "cell_type": "markdown",
   "metadata": {},
   "source": [
    "__3. Use BlastGrabber__\n",
    "\n",
    "\n",
    "__RESULTS__ DROUGHTLS_KZ0ACAF Summary:\n",
    "- Total number of hits: 78\n",
    "- Total number of unique hits: 78\n",
    "- Highest number for a given query (AY857933.1): 78\n",
    "- Min number of hits for a query:0\n",
    "- 1/194 query sequences had at least 1 hit (AY857933.1)\n",
    "\n",
    "\n",
    "__RESULTS__ LEAVES_KZ0ABE Summary:\n",
    "- Total number of hits: 6\n",
    "- Total number of unique hits: 6\n",
    "- Highest number for a given query: 3\n",
    "- Min number of hits for a query: 1\n",
    "- 4/194 query sequences had at least 1 hit\n",
    "\n"
   ]
  },
  {
   "cell_type": "code",
   "execution_count": null,
   "metadata": {},
   "outputs": [],
   "source": []
  },
  {
   "cell_type": "code",
   "execution_count": null,
   "metadata": {},
   "outputs": [],
   "source": []
  },
  {
   "cell_type": "markdown",
   "metadata": {},
   "source": [
    "## B. Genome: Criollo Version 2\n",
    "Blasting T. cacao Belizian Criollo B97-61/B2 Genome Version 2 from Argout et al. 2017 (Cocoa Genome Hub).\n",
    "\n",
    "\n",
    "Aim: Run Blast with the Cacao Genome vs. Drought DB, to compare with the results obtained in the EST Blast.\n",
    "\n",
    "### Test 2.1: CDS intron less\n",
    "__1. Create database__"
   ]
  },
  {
   "cell_type": "code",
   "execution_count": 4,
   "metadata": {},
   "outputs": [
    {
     "name": "stdout",
     "output_type": "stream",
     "text": [
      "\n",
      "\n",
      "Building a new DB, current time: 07/03/2020 13:03:13\n",
      "New DB name:   /media/storage/OneDrive - University of Edinburgh/onedrive_storage/Guazuma/Genomics/Bait_design/notebook_jup/Theobroma_cacaoV2_annot_cds.fasta\n",
      "New DB title:  Theobroma_cacaoV2_annot_cds.fasta\n",
      "Sequence type: Nucleotide\n",
      "Keep MBits: T\n",
      "Maximum file size: 1000000000B\n",
      "Adding sequences from FASTA; added 30655 sequences in 2.26917 seconds.\n"
     ]
    }
   ],
   "source": [
    "makeblastdb -in Theobroma_cacaoV2_annot_cds.fasta -dbtype nucl"
   ]
  },
  {
   "cell_type": "markdown",
   "metadata": {},
   "source": [
    "__2. Perform the blast:__\n",
    "\n",
    "\n",
    "Query: 194 sequences DroughtDB\n",
    "\n",
    "Database: 30,655 sequences CDS\n"
   ]
  },
  {
   "cell_type": "code",
   "execution_count": 7,
   "metadata": {},
   "outputs": [],
   "source": [
    "blastn -db Theobroma_cacaoV2_annot_cds.fasta -query completeCDS_DroughtDB_194Seqs.fasta -out results_Blast_CDS.out"
   ]
  },
  {
   "cell_type": "markdown",
   "metadata": {},
   "source": [
    "__3. Use BLASTGrabber__\n",
    "\n",
    "__RESULTS__ Summary:\n",
    "- Total number of hits: 59\n",
    "- Total number of unique hits: 53\n",
    "- Highest number for a given query: 8\n",
    "- Min number of hits for a query (AT1G78580.1): 1\n",
    "- 34/194 query sequences had at least 1 hit"
   ]
  },
  {
   "cell_type": "markdown",
   "metadata": {},
   "source": [
    "### Test 2.2: Assembly scaffolds"
   ]
  },
  {
   "cell_type": "markdown",
   "metadata": {},
   "source": [
    "__1. Create database__"
   ]
  },
  {
   "cell_type": "code",
   "execution_count": 11,
   "metadata": {},
   "outputs": [
    {
     "name": "stdout",
     "output_type": "stream",
     "text": [
      "\n",
      "\n",
      "Building a new DB, current time: 07/03/2020 14:58:12\n",
      "New DB name:   /media/storage/OneDrive - University of Edinburgh/onedrive_storage/Guazuma/Genomics/Bait_design/notebook_jup/Theobroma_cacao_criollo_scaffold.v2.0.fasta\n",
      "New DB title:  Theobroma_cacao_criollo_scaffold.v2.0.fasta\n",
      "Sequence type: Nucleotide\n",
      "Keep MBits: T\n",
      "Maximum file size: 1000000000B\n",
      "Adding sequences from FASTA; added 554 sequences in 4.78315 seconds.\n"
     ]
    }
   ],
   "source": [
    "makeblastdb -in Theobroma_cacao_criollo_scaffold.v2.0.fasta -dbtype nucl"
   ]
  },
  {
   "cell_type": "markdown",
   "metadata": {},
   "source": [
    "__2. Perform Blast__\n",
    "\n",
    "Query sequences: 194 DroughtDB\n",
    "\n",
    "\n",
    "Database: 554 sequences, scaffolds\n"
   ]
  },
  {
   "cell_type": "code",
   "execution_count": 13,
   "metadata": {},
   "outputs": [],
   "source": [
    "blastn -db Theobroma_cacao_criollo_scaffold.v2.0.fasta -query completeCDS_DroughtDB_194Seqs.fasta -out results_Blast_Scaffolds.out"
   ]
  },
  {
   "cell_type": "markdown",
   "metadata": {},
   "source": [
    "__3. Use BLASTGrabber__\n",
    "\n",
    "__RESULTS__ Summary:\n",
    "- Total number of hits: 43\n",
    "- Total number of unique hits: 24\n",
    "- Highest number for a given query (AT1G78580.1): 4\n",
    "- Min number of hits for a query: 1\n",
    "- 33/194 query sequences had at least 1 hit"
   ]
  },
  {
   "cell_type": "markdown",
   "metadata": {},
   "source": []
  },
  {
   "cell_type": "code",
   "execution_count": null,
   "metadata": {},
   "outputs": [],
   "source": []
  }
 ],
 "metadata": {
  "kernelspec": {
   "display_name": "Bash",
   "language": "bash",
   "name": "bash"
  },
  "language_info": {
   "codemirror_mode": "shell",
   "file_extension": ".sh",
   "mimetype": "text/x-sh",
   "name": "bash"
  }
 },
 "nbformat": 4,
 "nbformat_minor": 4
}
