{
 "cells": [
  {
   "cell_type": "markdown",
   "metadata": {},
   "source": [
    "# Git control commands\n",
    "- General commands\n",
    "<br> `git --version`\n",
    "<br> `git --global` \n",
    "<br> `git config --global credential.helper cache` - Set git to use the credential memory cache\n",
    "<br> `git config --global credential.helper 'cache --timeout=3600'` - Set the cache to timeout after 1 hour (setting is in seconds)\n",
    "<br> `git config` - set up your local git environment (typically copy and paste commands from elsewhere). Be sure to customize values in quotes for you\n",
    "\n",
    " `git config --global user.name \"Your Name\"\n",
    "  git config --global user.email \"your_name@email.com\"\n",
    "  git config --global github.user \"your_github_account_name\"\n",
    "  git config --global core.autocrlf input\n",
    "  git config --global core.editor \"nano -w\"\n",
    "  git config --global --list`\n",
    "\n",
    "\n",
    "<br> `git init` - create a git repository (look for .git/ when you use ls -a)\n",
    "\n",
    "- To make and commit changes in the **local** repository\n",
    "<br> Make a change or add a file, then:\n",
    "<br> `git status` - to see how things are\n",
    "<br> `git add filename` - to staged the change\n",
    "<br> `git status` - to see status, should show changes to be commited\n",
    "<br> `git commit -m \"message why the changes\"` - commit changes\n",
    "<br> `git status` - See status, should show no changes to be commited\n",
    "\n",
    "- To move the changes to the **global** repository\n",
    "<br> `git pull` - takes remote repository down to your local computer and merges changes\n",
    "<br> `git push` - push up the changes to the global repository\n",
    "<br> `git status` - should display \"branch is up-to-date with 'origin/master'\" if OK"
   ]
  },
  {
   "cell_type": "markdown",
   "metadata": {},
   "source": [
    "ncontrerasortiz\n",
    "nataliacon1"
   ]
  },
  {
   "cell_type": "code",
   "execution_count": null,
   "metadata": {},
   "outputs": [],
   "source": []
  }
 ],
 "metadata": {
  "kernelspec": {
   "display_name": "Bash",
   "language": "bash",
   "name": "bash"
  },
  "language_info": {
   "codemirror_mode": "shell",
   "file_extension": ".sh",
   "mimetype": "text/x-sh",
   "name": "bash"
  }
 },
 "nbformat": 4,
 "nbformat_minor": 4
}
